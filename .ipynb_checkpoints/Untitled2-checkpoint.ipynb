{
 "cells": [
  {
   "cell_type": "code",
   "execution_count": 1,
   "id": "74cace9d",
   "metadata": {},
   "outputs": [
    {
     "ename": "NameError",
     "evalue": "name 'se' is not defined",
     "output_type": "error",
     "traceback": [
      "\u001b[0;31m---------------------------------------------------------------------------\u001b[0m",
      "\u001b[0;31mNameError\u001b[0m                                 Traceback (most recent call last)",
      "Cell \u001b[0;32mIn[1], line 36\u001b[0m\n\u001b[1;32m     30\u001b[0m             \u001b[38;5;28;01mreturn\u001b[39;00m \u001b[38;5;28mself\u001b[39m\u001b[38;5;241m.\u001b[39mboard\n\u001b[1;32m     35\u001b[0m a \u001b[38;5;241m=\u001b[39m ChessEnv()\n\u001b[0;32m---> 36\u001b[0m \u001b[38;5;28mprint\u001b[39m(\u001b[43ma\u001b[49m\u001b[38;5;241;43m.\u001b[39;49m\u001b[43mstep\u001b[49m\u001b[43m(\u001b[49m\u001b[38;5;124;43m'\u001b[39;49m\u001b[38;5;124;43m1\u001b[39;49m\u001b[38;5;124;43m'\u001b[39;49m\u001b[43m)\u001b[49m)\n",
      "Cell \u001b[0;32mIn[1], line 29\u001b[0m, in \u001b[0;36mChessEnv.step\u001b[0;34m(self, prediction)\u001b[0m\n\u001b[1;32m     26\u001b[0m \u001b[38;5;28mself\u001b[39m\u001b[38;5;241m.\u001b[39mboard\u001b[38;5;241m.\u001b[39mpush_san(\u001b[38;5;28mstr\u001b[39m(np\u001b[38;5;241m.\u001b[39mrandom\u001b[38;5;241m.\u001b[39mchoice(\u001b[38;5;28mlist\u001b[39m(\u001b[38;5;28mself\u001b[39m\u001b[38;5;241m.\u001b[39mboard\u001b[38;5;241m.\u001b[39mlegal_moves))))\n\u001b[1;32m     28\u001b[0m \u001b[38;5;28;01mif\u001b[39;00m \u001b[38;5;28mself\u001b[39m\u001b[38;5;241m.\u001b[39mboard\u001b[38;5;241m.\u001b[39moutcome() \u001b[38;5;241m!=\u001b[39m \u001b[38;5;28;01mNone\u001b[39;00m:\n\u001b[0;32m---> 29\u001b[0m     chess\u001b[38;5;241m.\u001b[39msvg\u001b[38;5;241m.\u001b[39mboard(\u001b[43mse\u001b[49m)  \n\u001b[1;32m     30\u001b[0m     \u001b[38;5;28;01mreturn\u001b[39;00m \u001b[38;5;28mself\u001b[39m\u001b[38;5;241m.\u001b[39mboard\n",
      "\u001b[0;31mNameError\u001b[0m: name 'se' is not defined"
     ]
    }
   ],
   "source": [
    "import chess\n",
    "import numpy as np\n",
    "board = chess.Board()\n",
    "from random import random\n",
    "import chess.svg\n",
    "\n",
    "\n",
    "\n",
    "class ChessEnv():\n",
    "    def __init__(self):\n",
    "        self.board = chess.Board()\n",
    "        self.move_count = 0\n",
    "        self.moves = []\n",
    "\n",
    "\n",
    "    def reset(self):\n",
    "        self.board = chess.Board()\n",
    "        self.move_count = 0\n",
    "\n",
    "    def step(self, prediction):\n",
    "        \n",
    "      done = True\n",
    "\n",
    "      while done == True:\n",
    "        \n",
    "        self.board.push_san(str(np.random.choice(list(self.board.legal_moves))))\n",
    "        \n",
    "        if self.board.outcome() != None:\n",
    "            chess.svg.board(self.board)  \n",
    "            return self.board\n",
    "        \n",
    "\n",
    "\n",
    "\n",
    "a = ChessEnv()\n",
    "print(a.step('1'))"
   ]
  },
  {
   "cell_type": "code",
   "execution_count": null,
   "id": "b1a5fc17",
   "metadata": {},
   "outputs": [],
   "source": []
  }
 ],
 "metadata": {
  "kernelspec": {
   "display_name": "Python 3 (ipykernel)",
   "language": "python",
   "name": "python3"
  },
  "language_info": {
   "codemirror_mode": {
    "name": "ipython",
    "version": 3
   },
   "file_extension": ".py",
   "mimetype": "text/x-python",
   "name": "python",
   "nbconvert_exporter": "python",
   "pygments_lexer": "ipython3",
   "version": "3.10.9"
  }
 },
 "nbformat": 4,
 "nbformat_minor": 5
}
