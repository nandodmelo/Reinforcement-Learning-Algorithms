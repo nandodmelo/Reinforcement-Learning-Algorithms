{
 "cells": [
  {
   "cell_type": "code",
   "execution_count": 3,
   "id": "74cace9d",
   "metadata": {},
   "outputs": [
    {
     "name": "stdout",
     "output_type": "stream",
     "text": [
      ". . . . . . . .\n",
      ". . . . . k . .\n",
      ". . K . . . . .\n",
      ". . . p . . . .\n",
      ". . . P . . . .\n",
      ". . . . . . . .\n",
      ". . . . . . . .\n",
      ". . . . . . . .\n"
     ]
    }
   ],
   "source": [
    "import chess\n",
    "import numpy as np\n",
    "board = chess.Board()\n",
    "from random import random\n",
    "import chess.svg\n",
    "\n",
    "\n",
    "\n",
    "class ChessEnv():\n",
    "    def __init__(self):\n",
    "        self.board = chess.Board()\n",
    "        self.move_count = 0\n",
    "        self.moves = []\n",
    "\n",
    "\n",
    "    def reset(self):\n",
    "        self.board = chess.Board()\n",
    "        self.move_count = 0\n",
    "\n",
    "    def step(self, prediction):\n",
    "        \n",
    "      done = True\n",
    "\n",
    "      while done == True:\n",
    "        \n",
    "        self.board.push_san(str(np.random.choice(list(self.board.legal_moves))))\n",
    "        \n",
    "        if self.board.outcome() != None:\n",
    "            chess.svg.board(self.board)  \n",
    "            return self.board\n",
    "        \n",
    "\n",
    "\n",
    "\n",
    "a = ChessEnv()\n",
    "print(a.step('1'))"
   ]
  },
  {
   "cell_type": "code",
   "execution_count": null,
   "id": "b1a5fc17",
   "metadata": {},
   "outputs": [],
   "source": []
  },
  {
   "cell_type": "code",
   "execution_count": null,
   "id": "62b1608d",
   "metadata": {},
   "outputs": [],
   "source": []
  }
 ],
 "metadata": {
  "kernelspec": {
   "display_name": "Python 3 (ipykernel)",
   "language": "python",
   "name": "python3"
  },
  "language_info": {
   "codemirror_mode": {
    "name": "ipython",
    "version": 3
   },
   "file_extension": ".py",
   "mimetype": "text/x-python",
   "name": "python",
   "nbconvert_exporter": "python",
   "pygments_lexer": "ipython3",
   "version": "3.10.9"
  }
 },
 "nbformat": 4,
 "nbformat_minor": 5
}
